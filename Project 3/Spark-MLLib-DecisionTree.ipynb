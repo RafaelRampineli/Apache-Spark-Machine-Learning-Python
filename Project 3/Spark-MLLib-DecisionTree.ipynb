{
 "cells": [
  {
   "cell_type": "markdown",
   "metadata": {},
   "source": [
    "## <font color='blue'>Spark MLLib - Classificação - Decision Tree</font>"
   ]
  },
  {
   "cell_type": "markdown",
   "metadata": {},
   "source": [
    "## Classificar as espécies de flores, listadas no dataset iris"
   ]
  },
  {
   "cell_type": "code",
   "execution_count": 1,
   "metadata": {},
   "outputs": [],
   "source": [
    "# Imports \n",
    "from pyspark.sql import Row\n",
    "from pyspark.ml.feature import StringIndexer\n",
    "from pyspark.ml.linalg import Vectors\n",
    "from pyspark.ml.classification import DecisionTreeClassifier\n",
    "from pyspark.ml.evaluation import MulticlassClassificationEvaluator"
   ]
  },
  {
   "cell_type": "code",
   "execution_count": 1,
   "metadata": {},
   "outputs": [],
   "source": [
    "# Spark Session - usada quando se trabalha com Dataframes no Spark\n",
    "spSession = SparkSession.builder.master(\"local\").appName(\"SparkMLLib\").getOrCreate()"
   ]
  },
  {
   "cell_type": "code",
   "execution_count": 3,
   "metadata": {},
   "outputs": [],
   "source": [
    "# Carregando os dados e gerando um RDD\n",
    "irisRDD = sc.textFile(\"data/iris.csv\")"
   ]
  },
  {
   "cell_type": "code",
   "execution_count": 4,
   "metadata": {},
   "outputs": [
    {
     "data": {
      "text/plain": [
       "data/iris.csv MapPartitionsRDD[1] at textFile at NativeMethodAccessorImpl.java:0"
      ]
     },
     "execution_count": 4,
     "metadata": {},
     "output_type": "execute_result"
    }
   ],
   "source": [
    "# Colocando o RDD em cache. Esse processo otimiza a performance.\n",
    "irisRDD.cache()"
   ]
  },
  {
   "cell_type": "code",
   "execution_count": 5,
   "metadata": {},
   "outputs": [
    {
     "data": {
      "text/plain": [
       "151"
      ]
     },
     "execution_count": 5,
     "metadata": {},
     "output_type": "execute_result"
    }
   ],
   "source": [
    "irisRDD.count()"
   ]
  },
  {
   "cell_type": "code",
   "execution_count": 6,
   "metadata": {},
   "outputs": [
    {
     "data": {
      "text/plain": [
       "['Sepal.Length,Sepal.Width,Petal.Length,Petal.Width,Species',\n",
       " '5.1,3.5,1.4,0.2,setosa',\n",
       " '4.9,3,1.4,0.2,setosa',\n",
       " '4.7,3.2,1.3,0.2,setosa',\n",
       " '4.6,3.1,1.5,0.2,setosa']"
      ]
     },
     "execution_count": 6,
     "metadata": {},
     "output_type": "execute_result"
    }
   ],
   "source": [
    "irisRDD.take(5)"
   ]
  },
  {
   "cell_type": "code",
   "execution_count": 7,
   "metadata": {},
   "outputs": [
    {
     "data": {
      "text/plain": [
       "150"
      ]
     },
     "execution_count": 7,
     "metadata": {},
     "output_type": "execute_result"
    }
   ],
   "source": [
    "# Removendo a primeira linha do arquivo (cabeçalho)\n",
    "irisRDD2 = irisRDD.filter(lambda x: \"Sepal\" not in x)\n",
    "irisRDD2.count()"
   ]
  },
  {
   "cell_type": "markdown",
   "metadata": {},
   "source": [
    "## Limpeza dos Dados"
   ]
  },
  {
   "cell_type": "code",
   "execution_count": 8,
   "metadata": {},
   "outputs": [],
   "source": [
    "# Separando as colunas\n",
    "irisRDD3 = irisRDD2.map(lambda l: l.split(\",\"))"
   ]
  },
  {
   "cell_type": "code",
   "execution_count": 9,
   "metadata": {},
   "outputs": [],
   "source": [
    "# Mapeando as colunas\n",
    "irisRDD4 = irisRDD3.map(lambda p: Row(SEPAL_LENGTH = float(p[0]), SEPAL_WIDTH = float(p[1]), \n",
    "                                      PETAL_LENGTH = float(p[2]), PETAL_WIDTH = float(p[3]), \n",
    "                                      SPECIES = p[4] ))"
   ]
  },
  {
   "cell_type": "code",
   "execution_count": 10,
   "metadata": {
    "scrolled": false
   },
   "outputs": [
    {
     "data": {
      "text/plain": [
       "DataFrame[PETAL_LENGTH: double, PETAL_WIDTH: double, SEPAL_LENGTH: double, SEPAL_WIDTH: double, SPECIES: string]"
      ]
     },
     "execution_count": 10,
     "metadata": {},
     "output_type": "execute_result"
    }
   ],
   "source": [
    "# Criando um Dataframe\n",
    "irisDF = spSession.createDataFrame(irisRDD4)\n",
    "irisDF.cache()"
   ]
  },
  {
   "cell_type": "code",
   "execution_count": null,
   "metadata": {},
   "outputs": [],
   "source": [
    "irisDF.cache()"
   ]
  },
  {
   "cell_type": "code",
   "execution_count": 11,
   "metadata": {},
   "outputs": [
    {
     "data": {
      "text/plain": [
       "[Row(PETAL_LENGTH=1.4, PETAL_WIDTH=0.2, SEPAL_LENGTH=5.1, SEPAL_WIDTH=3.5, SPECIES='setosa'),\n",
       " Row(PETAL_LENGTH=1.4, PETAL_WIDTH=0.2, SEPAL_LENGTH=4.9, SEPAL_WIDTH=3.0, SPECIES='setosa'),\n",
       " Row(PETAL_LENGTH=1.3, PETAL_WIDTH=0.2, SEPAL_LENGTH=4.7, SEPAL_WIDTH=3.2, SPECIES='setosa'),\n",
       " Row(PETAL_LENGTH=1.5, PETAL_WIDTH=0.2, SEPAL_LENGTH=4.6, SEPAL_WIDTH=3.1, SPECIES='setosa'),\n",
       " Row(PETAL_LENGTH=1.4, PETAL_WIDTH=0.2, SEPAL_LENGTH=5.0, SEPAL_WIDTH=3.6, SPECIES='setosa')]"
      ]
     },
     "execution_count": 11,
     "metadata": {},
     "output_type": "execute_result"
    }
   ],
   "source": [
    "irisDF.take(5)"
   ]
  },
  {
   "cell_type": "code",
   "execution_count": 12,
   "metadata": {},
   "outputs": [],
   "source": [
    "# Criando um índice numérico para a coluna de label target\n",
    "# Transforma uma coluna categórica em Numérica\n",
    "stringIndexer = StringIndexer(inputCol = \"SPECIES\", outputCol = \"IDX_SPECIES\")\n",
    "si_model = stringIndexer.fit(irisDF)\n",
    "irisNormDF = si_model.transform(irisDF)"
   ]
  },
  {
   "cell_type": "code",
   "execution_count": 13,
   "metadata": {},
   "outputs": [
    {
     "data": {
      "text/plain": [
       "[Row(SPECIES='versicolor', IDX_SPECIES=0.0),\n",
       " Row(SPECIES='setosa', IDX_SPECIES=2.0),\n",
       " Row(SPECIES='virginica', IDX_SPECIES=1.0)]"
      ]
     },
     "execution_count": 13,
     "metadata": {},
     "output_type": "execute_result"
    }
   ],
   "source": [
    "irisNormDF.select(\"SPECIES\",\"IDX_SPECIES\").distinct().collect()"
   ]
  },
  {
   "cell_type": "markdown",
   "metadata": {},
   "source": [
    "## Análise Exploratória de Dados"
   ]
  },
  {
   "cell_type": "code",
   "execution_count": 14,
   "metadata": {},
   "outputs": [
    {
     "name": "stdout",
     "output_type": "stream",
     "text": [
      "+-------+------------------+------------------+------------------+------------------+---------+------------------+\n",
      "|summary|      PETAL_LENGTH|       PETAL_WIDTH|      SEPAL_LENGTH|       SEPAL_WIDTH|  SPECIES|       IDX_SPECIES|\n",
      "+-------+------------------+------------------+------------------+------------------+---------+------------------+\n",
      "|  count|               150|               150|               150|               150|      150|               150|\n",
      "|   mean| 3.758000000000001|1.1993333333333331| 5.843333333333332|3.0573333333333337|     null|               1.0|\n",
      "| stddev|1.7652982332594662|0.7622376689603467|0.8280661279778634|0.4358662849366978|     null|0.8192319205190404|\n",
      "|    min|               1.0|               0.1|               4.3|               2.0|   setosa|               0.0|\n",
      "|    max|               6.9|               2.5|               7.9|               4.4|virginica|               2.0|\n",
      "+-------+------------------+------------------+------------------+------------------+---------+------------------+\n",
      "\n"
     ]
    }
   ],
   "source": [
    "# Estatística descritiva\n",
    "irisNormDF.describe().show()"
   ]
  },
  {
   "cell_type": "code",
   "execution_count": 36,
   "metadata": {},
   "outputs": [
    {
     "data": {
      "text/plain": [
       "True"
      ]
     },
     "execution_count": 36,
     "metadata": {},
     "output_type": "execute_result"
    }
   ],
   "source": [
    "isinstance(irisNormDF.select(\"SPECIES\").take(1)[0][0], str)"
   ]
  },
  {
   "cell_type": "code",
   "execution_count": 45,
   "metadata": {},
   "outputs": [
    {
     "data": {
      "text/plain": [
       "[('PETAL_LENGTH', 'double'),\n",
       " ('PETAL_WIDTH', 'double'),\n",
       " ('SEPAL_LENGTH', 'double'),\n",
       " ('SEPAL_WIDTH', 'double'),\n",
       " ('SPECIES', 'string'),\n",
       " ('IDX_SPECIES', 'double')]"
      ]
     },
     "execution_count": 45,
     "metadata": {},
     "output_type": "execute_result"
    }
   ],
   "source": [
    "irisNormDF.dtypes"
   ]
  },
  {
   "cell_type": "code",
   "execution_count": 15,
   "metadata": {},
   "outputs": [
    {
     "name": "stdout",
     "output_type": "stream",
     "text": [
      "Correlação da variável IDX_SPECIES com PETAL_LENGTH -0.649241830764174\n",
      "Correlação da variável IDX_SPECIES com PETAL_WIDTH -0.5803770334306263\n",
      "Correlação da variável IDX_SPECIES com SEPAL_LENGTH -0.46003915650023686\n",
      "Correlação da variável IDX_SPECIES com SEPAL_WIDTH 0.6183715308237433\n",
      "Correlação da variável IDX_SPECIES com IDX_SPECIES 1.0\n"
     ]
    }
   ],
   "source": [
    "# Correlação entre as variáveis\n",
    "for i in irisNormDF.columns:\n",
    "    # Realiza a análise de correlação, somente se a coluna não for do tipo String\n",
    "    if not(isinstance(irisNormDF.select(i).take(1)[0][0], str)) :\n",
    "        print(\"Correlação da variável IDX_SPECIES com\", i, irisNormDF.stat.corr('IDX_SPECIES', i))"
   ]
  },
  {
   "cell_type": "markdown",
   "metadata": {},
   "source": [
    "## Pré-Processamento dos Dados\n",
    "Apache Spark Requer que os dados estejam em um padrão de dados, em um formato de Vetores, seja denso ou sparso."
   ]
  },
  {
   "cell_type": "code",
   "execution_count": 46,
   "metadata": {},
   "outputs": [],
   "source": [
    "# Criando um LabeledPoint (target, Vector[features])\n",
    "# Criando um vector denso, pois não existem dados com valores = 0\n",
    "def transformaVar(row) :\n",
    "    obj = (row[\"SPECIES\"], row[\"IDX_SPECIES\"], Vectors.dense([row[\"SEPAL_LENGTH\"], row[\"SEPAL_WIDTH\"], \n",
    "                                                              row[\"PETAL_LENGTH\"], row[\"PETAL_WIDTH\"]]))\n",
    "    return obj"
   ]
  },
  {
   "cell_type": "code",
   "execution_count": 47,
   "metadata": {},
   "outputs": [],
   "source": [
    "# Transforma o Dataframe em RDD para ser possível utilizar a função Map\n",
    "irisRDD5 = irisNormDF.rdd.map(transformaVar)"
   ]
  },
  {
   "cell_type": "code",
   "execution_count": 48,
   "metadata": {},
   "outputs": [
    {
     "data": {
      "text/plain": [
       "[('setosa', 2.0, DenseVector([5.1, 3.5, 1.4, 0.2])),\n",
       " ('setosa', 2.0, DenseVector([4.9, 3.0, 1.4, 0.2])),\n",
       " ('setosa', 2.0, DenseVector([4.7, 3.2, 1.3, 0.2])),\n",
       " ('setosa', 2.0, DenseVector([4.6, 3.1, 1.5, 0.2])),\n",
       " ('setosa', 2.0, DenseVector([5.0, 3.6, 1.4, 0.2]))]"
      ]
     },
     "execution_count": 48,
     "metadata": {},
     "output_type": "execute_result"
    }
   ],
   "source": [
    "irisRDD5.take(5)"
   ]
  },
  {
   "cell_type": "code",
   "execution_count": 49,
   "metadata": {},
   "outputs": [
    {
     "name": "stdout",
     "output_type": "stream",
     "text": [
      "+-------+-----+-----------------+\n",
      "|species|label|         features|\n",
      "+-------+-----+-----------------+\n",
      "| setosa|  2.0|[5.1,3.5,1.4,0.2]|\n",
      "| setosa|  2.0|[4.9,3.0,1.4,0.2]|\n",
      "| setosa|  2.0|[4.7,3.2,1.3,0.2]|\n",
      "| setosa|  2.0|[4.6,3.1,1.5,0.2]|\n",
      "| setosa|  2.0|[5.0,3.6,1.4,0.2]|\n",
      "| setosa|  2.0|[5.4,3.9,1.7,0.4]|\n",
      "| setosa|  2.0|[4.6,3.4,1.4,0.3]|\n",
      "| setosa|  2.0|[5.0,3.4,1.5,0.2]|\n",
      "| setosa|  2.0|[4.4,2.9,1.4,0.2]|\n",
      "| setosa|  2.0|[4.9,3.1,1.5,0.1]|\n",
      "+-------+-----+-----------------+\n",
      "only showing top 10 rows\n",
      "\n"
     ]
    },
    {
     "data": {
      "text/plain": [
       "DataFrame[species: string, label: double, features: vector]"
      ]
     },
     "execution_count": 49,
     "metadata": {},
     "output_type": "execute_result"
    }
   ],
   "source": [
    "irisDF = spSession.createDataFrame(irisRDD5,[\"species\", \"label\", \"features\"])\n",
    "irisDF.select(\"species\",\"label\",\"features\").show(10)\n",
    "irisDF.cache()"
   ]
  },
  {
   "cell_type": "code",
   "execution_count": 50,
   "metadata": {},
   "outputs": [
    {
     "data": {
      "text/plain": [
       "pyspark.sql.dataframe.DataFrame"
      ]
     },
     "execution_count": 50,
     "metadata": {},
     "output_type": "execute_result"
    }
   ],
   "source": [
    "type(irisDF)"
   ]
  },
  {
   "cell_type": "markdown",
   "metadata": {},
   "source": [
    "## Machine Learning"
   ]
  },
  {
   "cell_type": "code",
   "execution_count": 51,
   "metadata": {},
   "outputs": [],
   "source": [
    "# Dados de Treino e de Teste\n",
    "(dados_treino, dados_teste) = irisDF.randomSplit([0.7, 0.3])"
   ]
  },
  {
   "cell_type": "code",
   "execution_count": 52,
   "metadata": {},
   "outputs": [
    {
     "data": {
      "text/plain": [
       "110"
      ]
     },
     "execution_count": 52,
     "metadata": {},
     "output_type": "execute_result"
    }
   ],
   "source": [
    "dados_treino.count()"
   ]
  },
  {
   "cell_type": "code",
   "execution_count": 53,
   "metadata": {},
   "outputs": [
    {
     "data": {
      "text/plain": [
       "40"
      ]
     },
     "execution_count": 53,
     "metadata": {},
     "output_type": "execute_result"
    }
   ],
   "source": [
    "dados_teste.count()"
   ]
  },
  {
   "cell_type": "code",
   "execution_count": 54,
   "metadata": {},
   "outputs": [],
   "source": [
    "# Construindo o modelo com os dados de treino\n",
    "\n",
    "# maxDepth representa o nível de iterações que o algoritmo irá executar até apresentar o resultado.\n",
    "# Quanto maior o valor de maxDepth, mais demorado será o treinamento do modelo.\n",
    "dtClassifer = DecisionTreeClassifier(maxDepth = 2, labelCol = \"label\", featuresCol = \"features\")\n",
    "modelo = dtClassifer.fit(dados_treino)"
   ]
  },
  {
   "cell_type": "code",
   "execution_count": 58,
   "metadata": {},
   "outputs": [
    {
     "data": {
      "text/plain": [
       "5"
      ]
     },
     "execution_count": 58,
     "metadata": {},
     "output_type": "execute_result"
    }
   ],
   "source": [
    "# Número de Nodes utilizado durante o processamento\n",
    "modelo.numNodes"
   ]
  },
  {
   "cell_type": "code",
   "execution_count": 57,
   "metadata": {},
   "outputs": [
    {
     "data": {
      "text/plain": [
       "2"
      ]
     },
     "execution_count": 57,
     "metadata": {},
     "output_type": "execute_result"
    }
   ],
   "source": [
    "# Nível de profundidade utilizada em cada Tree\n",
    "modelo.depth"
   ]
  },
  {
   "cell_type": "code",
   "execution_count": 59,
   "metadata": {},
   "outputs": [
    {
     "data": {
      "text/plain": [
       "[Row(prediction=2.0, species='setosa', label=2.0),\n",
       " Row(prediction=2.0, species='setosa', label=2.0),\n",
       " Row(prediction=2.0, species='setosa', label=2.0),\n",
       " Row(prediction=2.0, species='setosa', label=2.0),\n",
       " Row(prediction=2.0, species='setosa', label=2.0),\n",
       " Row(prediction=2.0, species='setosa', label=2.0),\n",
       " Row(prediction=2.0, species='setosa', label=2.0),\n",
       " Row(prediction=2.0, species='setosa', label=2.0),\n",
       " Row(prediction=2.0, species='setosa', label=2.0),\n",
       " Row(prediction=0.0, species='versicolor', label=0.0),\n",
       " Row(prediction=0.0, species='versicolor', label=0.0),\n",
       " Row(prediction=0.0, species='versicolor', label=0.0),\n",
       " Row(prediction=0.0, species='versicolor', label=0.0),\n",
       " Row(prediction=0.0, species='versicolor', label=0.0),\n",
       " Row(prediction=0.0, species='versicolor', label=0.0),\n",
       " Row(prediction=0.0, species='versicolor', label=0.0),\n",
       " Row(prediction=0.0, species='versicolor', label=0.0),\n",
       " Row(prediction=0.0, species='versicolor', label=0.0),\n",
       " Row(prediction=0.0, species='versicolor', label=0.0),\n",
       " Row(prediction=0.0, species='versicolor', label=0.0),\n",
       " Row(prediction=0.0, species='versicolor', label=0.0),\n",
       " Row(prediction=0.0, species='versicolor', label=0.0),\n",
       " Row(prediction=0.0, species='versicolor', label=0.0),\n",
       " Row(prediction=0.0, species='versicolor', label=0.0),\n",
       " Row(prediction=0.0, species='versicolor', label=0.0),\n",
       " Row(prediction=0.0, species='versicolor', label=0.0),\n",
       " Row(prediction=1.0, species='virginica', label=1.0),\n",
       " Row(prediction=1.0, species='virginica', label=1.0),\n",
       " Row(prediction=1.0, species='virginica', label=1.0),\n",
       " Row(prediction=1.0, species='virginica', label=1.0),\n",
       " Row(prediction=1.0, species='virginica', label=1.0),\n",
       " Row(prediction=1.0, species='virginica', label=1.0),\n",
       " Row(prediction=1.0, species='virginica', label=1.0),\n",
       " Row(prediction=1.0, species='virginica', label=1.0),\n",
       " Row(prediction=1.0, species='virginica', label=1.0),\n",
       " Row(prediction=1.0, species='virginica', label=1.0),\n",
       " Row(prediction=1.0, species='virginica', label=1.0),\n",
       " Row(prediction=1.0, species='virginica', label=1.0),\n",
       " Row(prediction=1.0, species='virginica', label=1.0),\n",
       " Row(prediction=0.0, species='virginica', label=1.0)]"
      ]
     },
     "execution_count": 59,
     "metadata": {},
     "output_type": "execute_result"
    }
   ],
   "source": [
    "# Previsões com dados de teste\n",
    "previsoes = modelo.transform(dados_teste)\n",
    "previsoes.select(\"prediction\",\"species\",\"label\").collect()"
   ]
  },
  {
   "cell_type": "code",
   "execution_count": 63,
   "metadata": {},
   "outputs": [
    {
     "name": "stdout",
     "output_type": "stream",
     "text": [
      "+----------+-----+-----------------+--------------+--------------------+----------+\n",
      "|   species|label|         features| rawPrediction|         probability|prediction|\n",
      "+----------+-----+-----------------+--------------+--------------------+----------+\n",
      "|    setosa|  2.0|[4.4,3.0,1.3,0.2]|[0.0,0.0,41.0]|       [0.0,0.0,1.0]|       2.0|\n",
      "|    setosa|  2.0|[4.8,3.1,1.6,0.2]|[0.0,0.0,41.0]|       [0.0,0.0,1.0]|       2.0|\n",
      "|    setosa|  2.0|[5.0,3.0,1.6,0.2]|[0.0,0.0,41.0]|       [0.0,0.0,1.0]|       2.0|\n",
      "|    setosa|  2.0|[5.1,3.5,1.4,0.2]|[0.0,0.0,41.0]|       [0.0,0.0,1.0]|       2.0|\n",
      "|    setosa|  2.0|[5.1,3.7,1.5,0.4]|[0.0,0.0,41.0]|       [0.0,0.0,1.0]|       2.0|\n",
      "|    setosa|  2.0|[5.2,3.4,1.4,0.2]|[0.0,0.0,41.0]|       [0.0,0.0,1.0]|       2.0|\n",
      "|    setosa|  2.0|[5.3,3.7,1.5,0.2]|[0.0,0.0,41.0]|       [0.0,0.0,1.0]|       2.0|\n",
      "|    setosa|  2.0|[5.4,3.7,1.5,0.2]|[0.0,0.0,41.0]|       [0.0,0.0,1.0]|       2.0|\n",
      "|    setosa|  2.0|[5.4,3.9,1.7,0.4]|[0.0,0.0,41.0]|       [0.0,0.0,1.0]|       2.0|\n",
      "|versicolor|  0.0|[4.9,2.4,3.3,1.0]|[32.0,4.0,0.0]|[0.88888888888888...|       0.0|\n",
      "|versicolor|  0.0|[5.6,3.0,4.5,1.5]|[32.0,4.0,0.0]|[0.88888888888888...|       0.0|\n",
      "|versicolor|  0.0|[5.8,2.7,4.1,1.0]|[32.0,4.0,0.0]|[0.88888888888888...|       0.0|\n",
      "|versicolor|  0.0|[6.1,2.8,4.0,1.3]|[32.0,4.0,0.0]|[0.88888888888888...|       0.0|\n",
      "|versicolor|  0.0|[6.1,2.9,4.7,1.4]|[32.0,4.0,0.0]|[0.88888888888888...|       0.0|\n",
      "|versicolor|  0.0|[6.3,2.5,4.9,1.5]|[32.0,4.0,0.0]|[0.88888888888888...|       0.0|\n",
      "|versicolor|  0.0|[6.4,2.9,4.3,1.3]|[32.0,4.0,0.0]|[0.88888888888888...|       0.0|\n",
      "|versicolor|  0.0|[6.9,3.1,4.9,1.5]|[32.0,4.0,0.0]|[0.88888888888888...|       0.0|\n",
      "|versicolor|  0.0|[7.0,3.2,4.7,1.4]|[32.0,4.0,0.0]|[0.88888888888888...|       0.0|\n",
      "|versicolor|  0.0|[5.5,2.6,4.4,1.2]|[32.0,4.0,0.0]|[0.88888888888888...|       0.0|\n",
      "|versicolor|  0.0|[5.6,2.7,4.2,1.3]|[32.0,4.0,0.0]|[0.88888888888888...|       0.0|\n",
      "+----------+-----+-----------------+--------------+--------------------+----------+\n",
      "only showing top 20 rows\n",
      "\n"
     ]
    }
   ],
   "source": [
    "previsoes.show()"
   ]
  },
  {
   "cell_type": "code",
   "execution_count": 64,
   "metadata": {},
   "outputs": [
    {
     "data": {
      "text/plain": [
       "0.975"
      ]
     },
     "execution_count": 64,
     "metadata": {},
     "output_type": "execute_result"
    }
   ],
   "source": [
    "# Avaliando a acurácia\n",
    "avaliador = MulticlassClassificationEvaluator(predictionCol = \"prediction\", labelCol = \"label\", metricName = \"accuracy\")\n",
    "avaliador.evaluate(previsoes)      "
   ]
  },
  {
   "cell_type": "code",
   "execution_count": 65,
   "metadata": {},
   "outputs": [
    {
     "name": "stdout",
     "output_type": "stream",
     "text": [
      "+-----+----------+-----+\n",
      "|label|prediction|count|\n",
      "+-----+----------+-----+\n",
      "|  1.0|       1.0|   13|\n",
      "|  2.0|       2.0|    9|\n",
      "|  1.0|       0.0|    1|\n",
      "|  0.0|       0.0|   17|\n",
      "+-----+----------+-----+\n",
      "\n"
     ]
    }
   ],
   "source": [
    "# Resumindo as previsões - Confusion Matrix\n",
    "previsoes.groupBy(\"label\",\"prediction\").count().show()"
   ]
  }
 ],
 "metadata": {
  "anaconda-cloud": {},
  "kernelspec": {
   "display_name": "Python 3",
   "language": "python",
   "name": "python3"
  },
  "language_info": {
   "codemirror_mode": {
    "name": "ipython",
    "version": 3
   },
   "file_extension": ".py",
   "mimetype": "text/x-python",
   "name": "python",
   "nbconvert_exporter": "python",
   "pygments_lexer": "ipython3",
   "version": "3.7.3"
  }
 },
 "nbformat": 4,
 "nbformat_minor": 1
}
